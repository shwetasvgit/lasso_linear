{
 "cells": [
  {
   "cell_type": "markdown",
   "id": "12653715",
   "metadata": {},
   "source": [
    "<h3> CS3920/CS5920 Machine Learning Coursework</h3>\n",
    "\n",
    "<h4> Assignment 2</h4>\n",
    "    \n",
    "This Assignment contains implemention of the following :<br>\n",
    "  - Diabetes dataset from scikit learn exploration<br>\n",
    "  - Original diabetes dataset preprocessing and plotting<br>\n",
    "  - Inductive conformal predictor<br>\n",
    "   "
   ]
  },
  {
   "cell_type": "markdown",
   "id": "bd2272c9",
   "metadata": {},
   "source": [
    "<h5> TASK 1: Load the scikit-learn version of the diabetes dataset using the load_diabetes function."
   ]
  },
  {
   "cell_type": "code",
   "execution_count": 1,
   "id": "227d4593",
   "metadata": {},
   "outputs": [
    {
     "name": "stdout",
     "output_type": "stream",
     "text": [
      "The features in diabetes dataset are: ['age', 'sex', 'bmi', 'bp', 's1', 's2', 's3', 's4', 's5', 's6']\n"
     ]
    }
   ],
   "source": [
    "#Import dataset from scikit learn\n",
    "import numpy as np\n",
    "np.set_printoptions(suppress=True)\n",
    "from sklearn.datasets import load_diabetes\n",
    "diabetes = load_diabetes()\n",
    "print(\"The features in diabetes dataset are:\" ,diabetes['feature_names'])"
   ]
  },
  {
   "cell_type": "markdown",
   "id": "6b4d8c52",
   "metadata": {},
   "source": [
    "<h5> TASK 2: Split the dataset into the training and test sets."
   ]
  },
  {
   "cell_type": "code",
   "execution_count": 2,
   "id": "22903472",
   "metadata": {},
   "outputs": [],
   "source": [
    "#Train Test Split\n",
    "from sklearn.model_selection import train_test_split\n",
    "X_train, X_test, y_train, y_test = train_test_split(diabetes['data'], diabetes['target'],random_state =1403)"
   ]
  },
  {
   "cell_type": "markdown",
   "id": "e40d44db",
   "metadata": {},
   "source": [
    "<h5> TASK 3 : The training and test R2 for the Lasso model using the default parameters. Number of features and features used"
   ]
  },
  {
   "cell_type": "code",
   "execution_count": 3,
   "id": "937f39e9",
   "metadata": {},
   "outputs": [
    {
     "name": "stdout",
     "output_type": "stream",
     "text": [
      "The default train score is 0.38057774122082466\n",
      "The default test score is 0.30695764399889636\n"
     ]
    }
   ],
   "source": [
    "#Running Lasso on the diabetes dataset\n",
    "from sklearn.linear_model import Lasso\n",
    "lasso = Lasso().fit(X_train,y_train)\n",
    "print(\"The default train score is\",lasso.score(X_train,y_train))\n",
    "print(\"The default test score is\" , lasso.score(X_test,y_test))"
   ]
  },
  {
   "cell_type": "code",
   "execution_count": 4,
   "id": "a62dac3a",
   "metadata": {},
   "outputs": [
    {
     "name": "stdout",
     "output_type": "stream",
     "text": [
      "The number of features used: 2\n",
      "The selected features are: bmi, s5\n"
     ]
    }
   ],
   "source": [
    "#Features used by lasso for cumputation\n",
    "print(\"The number of features used:\" ,np.sum(lasso.coef_ !=0))\n",
    "feature_index = np.where(lasso.coef_!=0)\n",
    "print(\"The selected features are:\",\", \".join([diabetes['feature_names'][x] for x in feature_index[0]]))"
   ]
  },
  {
   "cell_type": "markdown",
   "id": "0d342f76",
   "metadata": {},
   "source": [
    "<h5> TASK 4,5: Load the original diabetes dataset from the web page and split the data into train and test samples"
   ]
  },
  {
   "cell_type": "code",
   "execution_count": 5,
   "id": "b483d069",
   "metadata": {},
   "outputs": [],
   "source": [
    "#import original data\n",
    "X = np.delete(np.genfromtxt(\"E:\\RHUL\\Machine Learning\\diabetes.data\",delimiter ='\\t',usecols = np.arange(10)),(0),axis =0)\n",
    "Y = np.delete(np.genfromtxt(\"E:\\RHUL\\Machine Learning\\diabetes.data\",usecols = 10, delimiter = '\\t', dtype = int),(0),axis=0)\n",
    "X_train_dia, X_test_dia, y_train_dia, y_test_dia = train_test_split(X,Y,random_state=1403)"
   ]
  },
  {
   "cell_type": "markdown",
   "id": "e2541495",
   "metadata": {},
   "source": [
    "<h5>TASK 6 : Lasso model on original dataset"
   ]
  },
  {
   "cell_type": "code",
   "execution_count": 6,
   "id": "e5de6545",
   "metadata": {},
   "outputs": [
    {
     "name": "stdout",
     "output_type": "stream",
     "text": [
      "The default train score is 0.5155049384574509\n",
      "The default test score is 0.4611292784728689\n"
     ]
    }
   ],
   "source": [
    "#Run lasso on the original data\n",
    "lasso_dia = Lasso().fit(X_train_dia,y_train_dia)\n",
    "print(\"The default train score is\",lasso_dia.score(X_train_dia,y_train_dia))\n",
    "print(\"The default test score is\" , lasso_dia.score(X_test_dia,y_test_dia))"
   ]
  },
  {
   "cell_type": "code",
   "execution_count": 7,
   "id": "a0f8e43b",
   "metadata": {},
   "outputs": [
    {
     "name": "stdout",
     "output_type": "stream",
     "text": [
      "The number of features used: 10\n",
      "The selected features are :  age, sex, bmi, bp, s1, s2, s3, s4, s5, s6\n"
     ]
    }
   ],
   "source": [
    "#Coefficients\n",
    "print(\"The number of features used:\" , np.sum(lasso_dia.coef_ !=0))\n",
    "feature_index = np.where(lasso_dia.coef_!=0)\n",
    "print(\"The selected features are : \",\", \".join([diabetes['feature_names'][x] for x in feature_index[0]]))"
   ]
  },
  {
   "cell_type": "markdown",
   "id": "95000a1c",
   "metadata": {},
   "source": [
    "<h6>Observation</h6>\n",
    "The dataset from sklearn is normalized to 0-1 levels and therefore, lasso results in majority coefficients becoming 0.\n",
    "The original dataset is not normalized and therefore we see the impact of all the features on the final result  "
   ]
  },
  {
   "cell_type": "markdown",
   "id": "dc0061b3",
   "metadata": {},
   "source": [
    "<h5>TASK 7,8: Preprocess the training and test sets using StandardScaler and repeat Lasso , note observations"
   ]
  },
  {
   "cell_type": "code",
   "execution_count": 8,
   "id": "fdc58aff",
   "metadata": {},
   "outputs": [
    {
     "name": "stdout",
     "output_type": "stream",
     "text": [
      "Training score of scaled data 0.5197167357424546\n",
      "Testing score of scaled data 0.4719151389527314\n",
      "The selected labels are :  sex, bmi, bp, s1, s2, s3, s4, s5\n"
     ]
    }
   ],
   "source": [
    "#Standard Scaler from Scikit learn for scaling the data using fit and transform\n",
    "from sklearn.preprocessing import StandardScaler\n",
    "scaler = StandardScaler()\n",
    "\n",
    "#fitting StandardScaler\n",
    "scaler.fit(X_train_dia)\n",
    "\n",
    "#transform data on StandardScaler\n",
    "X_train_dia_scaled = scaler.transform(X_train_dia)\n",
    "X_test_dia_scaled = scaler.transform(X_test_dia)\n",
    "lasso_norm = Lasso().fit(X_train_dia_scaled,y_train_dia)\n",
    "\n",
    "print(\"Training score of scaled data\",lasso_norm.score(X_train_dia_scaled, y_train_dia))\n",
    "print(\"Testing score of scaled data\",lasso_norm.score(X_test_dia_scaled, y_test_dia))\n",
    "feature_index1 = np.where(lasso_norm.coef_!=0)\n",
    "print(\"The selected labels are : \",\", \".join([diabetes['feature_names'][x] for x in feature_index1[0]]))"
   ]
  },
  {
   "cell_type": "code",
   "execution_count": 9,
   "id": "3e37a24a",
   "metadata": {},
   "outputs": [
    {
     "data": {
      "text/plain": [
       "array([-0., -0., -0., -0.,  0.,  0.,  0.,  0., -0., -0.])"
      ]
     },
     "execution_count": 9,
     "metadata": {},
     "output_type": "execute_result"
    }
   ],
   "source": [
    "#Mean of the scaled original data\n",
    "X_train_dia_scaled.mean(axis=0)"
   ]
  },
  {
   "cell_type": "code",
   "execution_count": 10,
   "id": "cc97dfba",
   "metadata": {},
   "outputs": [
    {
     "data": {
      "text/plain": [
       "array([ 0.00087257, -0.00144447, -0.00163421, -0.00043523, -0.00074588,\n",
       "       -0.00047613, -0.00048363, -0.00039826, -0.0008797 , -0.00217892])"
      ]
     },
     "execution_count": 10,
     "metadata": {},
     "output_type": "execute_result"
    }
   ],
   "source": [
    "#Mean of the sklearn dataset\n",
    "X_train.mean(axis=0)"
   ]
  },
  {
   "cell_type": "markdown",
   "id": "9369dc02",
   "metadata": {},
   "source": [
    "<h5>Observation</h5>\n",
    "The Standard scalar brings down the data to mean = 0 and unit variance, This means the impact of the features are preserved because all the data is centered around 0.\n",
    "where as the sklearn dataset is scaled in such a way that the data shows 2 features have much more impact than the rest of the features\n",
    "Therefore we get better scores in scaled and original data because feautre impacts are conserved and the model trains well\n",
    "\n",
    "When all the features in a data set are important, Lasso tends to omit features and therefore impact of a few significant features on the label\n",
    "might get removed."
   ]
  },
  {
   "cell_type": "markdown",
   "id": "680be2ec",
   "metadata": {},
   "source": [
    "<h5>TASK 9 : Plot R2 and number of features, and make it pretty"
   ]
  },
  {
   "cell_type": "code",
   "execution_count": 11,
   "id": "644b2b47",
   "metadata": {},
   "outputs": [
    {
     "data": {
      "text/plain": [
       "Text(0.5, 1.0, 'R2 vs Number of features')"
      ]
     },
     "execution_count": 11,
     "metadata": {},
     "output_type": "execute_result"
    },
    {
     "data": {
      "image/png": "[encoded data removed]",
      "text/plain": [
       "<Figure size 432x288 with 1 Axes>"
      ]
     },
     "metadata": {
      "needs_background": "light"
     },
     "output_type": "display_data"
    }
   ],
   "source": [
    "import matplotlib.pyplot as plt\n",
    "lasso_score = []\n",
    "total_coef = []\n",
    "a = 0.1\n",
    "while a<=5:\n",
    "    lasso_alpha = Lasso(alpha=a,max_iter=1000).fit(X_train_dia_scaled,y_train_dia)\n",
    "    lasso_score.append(lasso_alpha.score(X_test_dia_scaled,y_test_dia))\n",
    "    total_coef.append(np.sum(lasso_alpha.coef_ !=0))    \n",
    "    #print(total_coef)\n",
    "    a = a + 0.01\n",
    "plt.plot(total_coef,lasso_score)\n",
    "plt.grid()\n",
    "plt.xlabel(\"Number of features used\")\n",
    "plt.ylabel(\"R2 Scores\")\n",
    "plt.title(\"R2 vs Number of features\")"
   ]
  },
  {
   "cell_type": "markdown",
   "id": "16ffc2fd",
   "metadata": {},
   "source": [
    "<h5> TASK 10 : Choose the regularization parameter for the Lasso using cross-validation\n",
    "on the training set."
   ]
  },
  {
   "cell_type": "code",
   "execution_count": 12,
   "id": "25ceea47",
   "metadata": {},
   "outputs": [
    {
     "name": "stdout",
     "output_type": "stream",
     "text": [
      "The alpha for which we get the best scores:  1.0000000000000007\n",
      "The optimum test score is 0.4719151389527314\n",
      "The optimum train score is 0.5197167357424546\n",
      "The selected features are :  sex, bmi, bp, s1, s2, s3, s4, s5\n"
     ]
    }
   ],
   "source": [
    "from sklearn.model_selection import cross_val_score\n",
    "best_score = np.NINF\n",
    "b = 0.01\n",
    "#Cross validation\n",
    "while b<=5:\n",
    "    lasso_val = Lasso(alpha=b,max_iter=1000).fit(X_train_dia_scaled,y_train_dia)   \n",
    "    scores = cross_val_score(lasso_val,X_train_dia_scaled,y_train_dia,cv=5)  \n",
    "    score = np.mean(scores)    \n",
    "    b= b + 0.01  \n",
    "    if score > best_score:        \n",
    "        alpha_optimum = b\n",
    "        best_score = score\n",
    "print(\"The alpha for which we get the best scores: \", alpha_optimum)\n",
    "#Apply optimum alpha on Lasso\n",
    "lasso_optimum = Lasso(alpha=alpha_optimum,max_iter=1000).fit(X_train_dia_scaled,y_train_dia)\n",
    "print(\"The optimum test score is\",lasso_optimum.score(X_test_dia_scaled, y_test_dia))\n",
    "print(\"The optimum train score is\",lasso_optimum.score(X_train_dia_scaled, y_train_dia))\n",
    "print(\"The selected features are : \",\", \".join([diabetes['feature_names'][x] for x in np.where(lasso_optimum.coef_!=0)[0]]))"
   ]
  },
  {
   "cell_type": "markdown",
   "id": "7354e00d",
   "metadata": {},
   "source": [
    "<h5>TASK 11 : Inductive Conformal Prediction on original data with Lasso prediction model"
   ]
  },
  {
   "cell_type": "code",
   "execution_count": 13,
   "id": "9e7321e4",
   "metadata": {},
   "outputs": [
    {
     "name": "stdout",
     "output_type": "stream",
     "text": [
      "The number of elements in caliberation set (99, 10)\n"
     ]
    }
   ],
   "source": [
    "#Create caliberation set and train proper\n",
    "X_train_pr, X_valid, y_train_pr, y_valid = train_test_split(X_train_dia,\n",
    "y_train_dia, random_state=1403,test_size=99)\n",
    "print(\"The number of elements in caliberation set\",X_valid.shape)"
   ]
  },
  {
   "cell_type": "code",
   "execution_count": 14,
   "id": "b2b2cc0e",
   "metadata": {},
   "outputs": [
    {
     "name": "stdout",
     "output_type": "stream",
     "text": [
      "The number of elements in test set (111, 10)\n"
     ]
    }
   ],
   "source": [
    "#Pre-processing the data on train proper and transforming training,caliberation and test data\n",
    "scaler = StandardScaler()\n",
    "scaler.fit(X_train_pr)\n",
    "X_train_pr_scaled = scaler.transform(X_train_pr)\n",
    "X_valid_scaled = scaler.transform(X_valid)\n",
    "X_test_scaled = scaler.transform(X_test_dia)\n",
    "print(\"The number of elements in test set\", X_test_scaled.shape)"
   ]
  },
  {
   "cell_type": "markdown",
   "id": "d97a4adb",
   "metadata": {},
   "source": [
    "<h6>Lasso Training</h6>"
   ]
  },
  {
   "cell_type": "code",
   "execution_count": 15,
   "id": "895f5f9f",
   "metadata": {},
   "outputs": [
    {
     "name": "stdout",
     "output_type": "stream",
     "text": [
      "The optimum alpha calculated from cros-validation 1.350000000000001\n",
      "The score on this alpha 0.4796126246332718\n"
     ]
    }
   ],
   "source": [
    "c = 0.01\n",
    "best_score_conformal = np.NINF\n",
    "\n",
    "#Cross-validation for optimum value of alpha\n",
    "while c<=5:\n",
    "    lasso_model_check = Lasso(alpha=c,max_iter=1000).fit(X_train_pr_scaled,y_train_pr)   \n",
    "    scores_conformal = cross_val_score(lasso_model_check,X_train_pr_scaled,y_train_pr,cv=5)   \n",
    "    score_conformal = np.mean(scores_conformal)      \n",
    "    c= c + 0.01  \n",
    "    if score_conformal > best_score_conformal:        \n",
    "        alpha_optimum_conformal = c\n",
    "        best_score_conformal = score_conformal\n",
    "lasso_model = Lasso(alpha = alpha_optimum_conformal).fit(X_train_pr_scaled,y_train_pr)\n",
    "print(\"The optimum alpha calculated from cros-validation\", alpha_optimum_conformal)\n",
    "print(\"The score on this alpha\",best_score_conformal)"
   ]
  },
  {
   "cell_type": "markdown",
   "id": "4386e0d8",
   "metadata": {},
   "source": [
    "<h6> Inductive conformal implementation"
   ]
  },
  {
   "cell_type": "code",
   "execution_count": 16,
   "id": "9ab9d7d8",
   "metadata": {},
   "outputs": [
    {
     "name": "stdout",
     "output_type": "stream",
     "text": [
      "The test error rate with E = 5% : 0.09009009009009009\n",
      "The test error rat accuracy with E = 20% : 0.18018018018018017\n",
      "\n",
      "The length of interval for E=5% [196.94952524970284, 196.94952524970284, 196.94952524970284, 196.94952524970287, 196.94952524970287, 196.94952524970284, 196.94952524970287, 196.94952524970287, 196.94952524970284, 196.94952524970287, 196.94952524970284, 196.94952524970287, 196.94952524970282, 196.94952524970284, 196.94952524970282, 196.94952524970284, 196.94952524970284, 196.94952524970284, 196.94952524970287, 196.94952524970284, 196.94952524970282, 196.94952524970284, 196.94952524970282, 196.94952524970284, 196.94952524970284, 196.94952524970287, 196.94952524970287, 196.94952524970284, 196.94952524970284, 196.94952524970282, 196.94952524970284, 196.94952524970284, 196.94952524970287, 196.94952524970284, 196.94952524970287, 196.94952524970284, 196.94952524970284, 196.94952524970284, 196.94952524970287, 196.94952524970284, 196.94952524970284, 196.94952524970287, 196.94952524970284, 196.94952524970284, 196.94952524970287, 196.94952524970284, 196.94952524970282, 196.94952524970284, 196.94952524970284, 196.94952524970284, 196.94952524970284, 196.94952524970284, 196.94952524970284, 196.94952524970287, 196.94952524970284, 196.94952524970284, 196.94952524970284, 196.94952524970284, 196.94952524970282, 196.94952524970284, 196.94952524970284, 196.94952524970284, 196.94952524970284, 196.94952524970284, 196.94952524970284, 196.94952524970284, 196.94952524970287, 196.94952524970284, 196.94952524970284, 196.94952524970284, 196.94952524970282, 196.94952524970284, 196.94952524970284, 196.94952524970284, 196.94952524970287, 196.94952524970284, 196.94952524970284, 196.94952524970284, 196.94952524970287, 196.94952524970284, 196.94952524970282, 196.94952524970284, 196.94952524970282, 196.94952524970284, 196.94952524970284, 196.94952524970284, 196.94952524970284, 196.94952524970287, 196.94952524970284, 196.94952524970282, 196.94952524970284, 196.94952524970284, 196.94952524970284, 196.94952524970284, 196.94952524970282, 196.94952524970287, 196.94952524970284, 196.94952524970284, 196.94952524970284, 196.94952524970284, 196.94952524970284, 196.94952524970284, 196.94952524970284, 196.94952524970282, 196.94952524970284, 196.94952524970284, 196.94952524970282, 196.94952524970284, 196.94952524970282, 196.94952524970284, 196.94952524970284]\n",
      "\n",
      "The length of interval for E=20% [151.28219419231647, 151.28219419231647, 151.28219419231647, 151.28219419231644, 151.28219419231647, 151.28219419231647, 151.28219419231644, 151.28219419231647, 151.28219419231647, 151.28219419231644, 151.28219419231647, 151.28219419231644, 151.2821941923165, 151.28219419231647, 151.2821941923165, 151.28219419231647, 151.28219419231647, 151.28219419231647, 151.28219419231647, 151.28219419231647, 151.2821941923165, 151.28219419231647, 151.2821941923165, 151.28219419231647, 151.28219419231647, 151.28219419231647, 151.28219419231644, 151.28219419231647, 151.28219419231647, 151.28219419231647, 151.28219419231647, 151.28219419231647, 151.28219419231644, 151.28219419231647, 151.28219419231644, 151.28219419231647, 151.28219419231647, 151.28219419231647, 151.28219419231647, 151.28219419231647, 151.28219419231647, 151.28219419231644, 151.28219419231647, 151.28219419231647, 151.28219419231644, 151.28219419231647, 151.2821941923165, 151.28219419231647, 151.28219419231647, 151.28219419231647, 151.28219419231647, 151.28219419231647, 151.28219419231647, 151.28219419231644, 151.28219419231647, 151.28219419231647, 151.28219419231647, 151.28219419231647, 151.28219419231647, 151.28219419231647, 151.28219419231647, 151.28219419231647, 151.28219419231647, 151.28219419231647, 151.28219419231647, 151.28219419231647, 151.28219419231644, 151.28219419231647, 151.28219419231647, 151.28219419231647, 151.2821941923165, 151.28219419231647, 151.28219419231647, 151.28219419231647, 151.28219419231644, 151.28219419231647, 151.28219419231647, 151.28219419231647, 151.28219419231644, 151.28219419231647, 151.2821941923165, 151.28219419231647, 151.2821941923165, 151.28219419231647, 151.28219419231647, 151.28219419231647, 151.28219419231647, 151.28219419231644, 151.28219419231647, 151.28219419231647, 151.28219419231647, 151.28219419231647, 151.28219419231647, 151.28219419231647, 151.2821941923165, 151.28219419231644, 151.28219419231647, 151.28219419231647, 151.28219419231647, 151.28219419231647, 151.28219419231647, 151.28219419231647, 151.28219419231647, 151.28219419231647, 151.28219419231647, 151.28219419231647, 151.2821941923165, 151.28219419231647, 151.2821941923165, 151.28219419231647, 151.28219419231647]\n"
     ]
    }
   ],
   "source": [
    "#Import math for ceil function\n",
    "import math\n",
    "y_c1 = [[]]\n",
    "y_c2 = [[]]\n",
    "count_c1 = 0\n",
    "count_c2 = 0\n",
    "amplitude_k5 = []\n",
    "amplitude_k20 = []\n",
    "\n",
    "#prediction of y-hat on caliberation set\n",
    "y_hat_calib_list = lasso_model.predict(X_valid_scaled)\n",
    "# alpha =| y_hat - y |\n",
    "alpha_values = abs(y_hat_calib_list-y_valid)\n",
    "alpha_values.sort()\n",
    "\n",
    "#k = ceil((1-E)*(m+1))\n",
    "k1 = math.ceil((1-0.05)*(len(alpha_values)+1))\n",
    "k2 = math.ceil((1-0.20)*(len(alpha_values)+1))\n",
    "\n",
    "#c = alpha(k)\n",
    "c1 = alpha_values[k1]\n",
    "c2 = alpha_values[k2]\n",
    "\n",
    "#predity y_hat on test set\n",
    "y_hat_test_list = lasso_model.predict(X_test_scaled)\n",
    "\n",
    "#Calculation of prediction intervals \n",
    "for test_sample in range(len(y_hat_test_list)):\n",
    "    y_min_c1 = y_hat_test_list[test_sample] - c1 \n",
    "    y_min_c2 = y_hat_test_list[test_sample] - c2\n",
    "    y_max_c1 = y_hat_test_list[test_sample] + c1 \n",
    "    y_max_c2 = y_hat_test_list[test_sample] + c2\n",
    "    \n",
    "    y_c1.append([y_min_c1,y_max_c1])\n",
    "    y_c2.append([y_min_c2,y_max_c2])\n",
    "    \n",
    "    amplitude_k5.append(abs(y_max_c1-y_min_c1))\n",
    "    amplitude_k20.append(abs(y_max_c2-y_min_c2))\n",
    "    \n",
    "    if y_min_c1 <= y_test[test_sample] <=y_max_c1:\n",
    "        count_c1 = count_c1 +1\n",
    "    if y_min_c2 <= y_test[test_sample] <=y_max_c2:\n",
    "        count_c2 = count_c2 +1 \n",
    "        \n",
    "#Calculation of test error \n",
    "test_error_c1 = (len(y_test_dia) -count_c1) / len(y_test_dia)\n",
    "test_error_c2 = (len(y_test_dia) -count_c2) / len(y_test_dia)\n",
    "\n",
    "print(\"The test error rate with E = 5% :\", test_error_c1)\n",
    "print(\"The test error rat accuracy with E = 20% :\", test_error_c2)\n",
    "\n",
    "print(\"\\nThe length of interval for E=5%\", amplitude_k5)\n",
    "print(\"\\nThe length of interval for E=20%\", amplitude_k20)"
   ]
  }
 ],
 "metadata": {
  "kernelspec": {
   "display_name": "Python 3",
   "language": "python",
   "name": "python3"
  },
  "language_info": {
   "codemirror_mode": {
    "name": "ipython",
    "version": 3
   },
   "file_extension": ".py",
   "mimetype": "text/x-python",
   "name": "python",
   "nbconvert_exporter": "python",
   "pygments_lexer": "ipython3",
   "version": "3.8.8"
  }
 },
 "nbformat": 4,
 "nbformat_minor": 5
}
